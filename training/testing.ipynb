{
 "cells": [
  {
   "cell_type": "code",
   "execution_count": 3,
   "metadata": {},
   "outputs": [],
   "source": [
    "import numpy as np\n",
    "import cv2\n",
    "import matplotlib.pyplot as plt"
   ]
  },
  {
   "cell_type": "markdown",
   "metadata": {},
   "source": [
    "# EDA"
   ]
  },
  {
   "cell_type": "code",
   "execution_count": 5,
   "metadata": {},
   "outputs": [],
   "source": [
    "# Load the images\n",
    "empty = cv2.imread('../data/empty.png')\n",
    "not_empty = cv2.imread('../data/not_empty.png')\n",
    "empty = cv2.resize(empty, (15,15))\n",
    "not_empty = cv2.resize(not_empty, (15,15))\n",
    "empty = cv2.cvtColor(empty, cv2.COLOR_BGR2GRAY)\n",
    "not_empty = cv2.cvtColor(not_empty, cv2.COLOR_BGR2GRAY)"
   ]
  },
  {
   "cell_type": "code",
   "execution_count": 6,
   "metadata": {},
   "outputs": [
    {
     "data": {
      "image/png": "[encoded data removed]",
      "text/plain": [
       "<Figure size 800x800 with 2 Axes>"
      ]
     },
     "metadata": {},
     "output_type": "display_data"
    }
   ],
   "source": [
    "# Plot the array as an image\n",
    "plt.figure(figsize=(8, 8))\n",
    "plt.imshow(empty, cmap='gray', vmin=0, vmax=255)\n",
    "plt.title('Visualisasi Array sebagai Gambar Grayscale')\n",
    "plt.colorbar()\n",
    "plt.axis('off')\n",
    "plt.show()"
   ]
  },
  {
   "cell_type": "markdown",
   "metadata": {},
   "source": [
    "# Start"
   ]
  },
  {
   "cell_type": "code",
   "execution_count": 10,
   "metadata": {},
   "outputs": [],
   "source": [
    "import os\n",
    "import cv2\n",
    "import numpy as np\n",
    "import xgboost as xgb\n",
    "from sklearn.model_selection import train_test_split\n",
    "from sklearn.metrics import accuracy_score, classification_report\n",
    "\n",
    "def load_images_from_directory(directory, label):\n",
    "    images = []\n",
    "    labels = []\n",
    "    for filename in os.listdir(directory):\n",
    "        img_path = os.path.join(directory, filename)\n",
    "        img = cv2.imread(img_path)\n",
    "        if img is not None:\n",
    "            img_resized = cv2.resize(img, (15, 15))\n",
    "            img_gray = cv2.cvtColor(img_resized, cv2.COLOR_BGR2GRAY)\n",
    "            images.append(img_gray.flatten())\n",
    "            labels.append(label)\n",
    "    return images, labels\n",
    "\n",
    "# Load empty images\n",
    "empty_data, empty_labels = load_images_from_directory('empty', 0)  # Replace with your empty images folder\n",
    "\n",
    "# Load not_empty images\n",
    "not_empty_data, not_empty_labels = load_images_from_directory('not_empty', 1)  # Replace with your not_empty images folder\n",
    "\n"
   ]
  },
  {
   "cell_type": "code",
   "execution_count": 11,
   "metadata": {},
   "outputs": [],
   "source": [
    "# Combine the data and labels\n",
    "data = np.array(empty_data + not_empty_data)\n",
    "labels = np.array(empty_labels + not_empty_labels)\n",
    "\n",
    "# Split the data into training and test sets\n",
    "X_train, X_test, y_train, y_test = train_test_split(data, labels, test_size=0.2, random_state=42)\n",
    "\n",
    "\n"
   ]
  },
  {
   "cell_type": "code",
   "execution_count": 12,
   "metadata": {},
   "outputs": [
    {
     "name": "stdout",
     "output_type": "stream",
     "text": [
      "XGBoost Accuracy: 1.0\n",
      "XGBoost Classification Report:\n",
      "              precision    recall  f1-score   support\n",
      "\n",
      "           0       1.00      1.00      1.00       308\n",
      "           1       1.00      1.00      1.00       435\n",
      "\n",
      "    accuracy                           1.00       743\n",
      "   macro avg       1.00      1.00      1.00       743\n",
      "weighted avg       1.00      1.00      1.00       743\n",
      "\n"
     ]
    }
   ],
   "source": [
    "\n",
    "# Train and evaluate XGBoost model\n",
    "xgb = xgb.XGBClassifier()\n",
    "xgb.fit(X_train, y_train)\n",
    "y_pred_xgb = xgb.predict(X_test)\n",
    "print(\"XGBoost Accuracy:\", accuracy_score(y_test, y_pred_xgb))\n",
    "print(\"XGBoost Classification Report:\")\n",
    "print(classification_report(y_test, y_pred_xgb))\n"
   ]
  },
  {
   "cell_type": "code",
   "execution_count": 13,
   "metadata": {},
   "outputs": [
    {
     "name": "stdout",
     "output_type": "stream",
     "text": [
      "Models saved successfully.\n"
     ]
    }
   ],
   "source": [
    "import pickle\n",
    "\n",
    "with open('xgb_model_new.pkl', 'wb') as f:\n",
    "    pickle.dump(xgb, f)\n",
    "\n",
    "print(\"Models saved successfully.\")"
   ]
  },
  {
   "cell_type": "code",
   "execution_count": 17,
   "metadata": {},
   "outputs": [
    {
     "name": "stdout",
     "output_type": "stream",
     "text": [
      "Accuracy for empty_augmented: 100.00%\n",
      "Accuracy for not_empty_augmented: 100.00%\n"
     ]
    }
   ],
   "source": [
    "def predict_empty(directory, label):\n",
    "    # logistic_model = pickle.load(open(\"model/model.p\", \"rb\"))\n",
    "    total_images = 0\n",
    "    correct_predictions = 0\n",
    "    \n",
    "    for filename in os.listdir(directory):\n",
    "        img_path = os.path.join(directory, filename)\n",
    "        img = cv2.imread(img_path)\n",
    "        if img is not None:\n",
    "            total_images += 1\n",
    "            img_resized = cv2.resize(img, (15, 15))\n",
    "            img_gray = cv2.cvtColor(img_resized, cv2.COLOR_BGR2GRAY)\n",
    "            flat_data = img_gray.flatten().reshape(1, -1)\n",
    "            y_output = xgb.predict(flat_data)\n",
    "            \n",
    "            if y_output == label:\n",
    "                correct_predictions += 1\n",
    "\n",
    "    accuracy = correct_predictions / total_images if total_images > 0 else 0\n",
    "    return accuracy\n",
    "\n",
    "# Calculate accuracy for the 'empty_augmented' directory\n",
    "accuracy_empty = predict_empty('empty', 0)\n",
    "print(f\"Accuracy for empty_augmented: {accuracy_empty * 100:.2f}%\")\n",
    "\n",
    "# Calculate accuracy for the 'not_empty_augmented' directory\n",
    "accuracy_not_empty = predict_empty('not_empty', 1)\n",
    "print(f\"Accuracy for not_empty_augmented: {accuracy_not_empty * 100:.2f}%\")"
   ]
  },
  {
   "cell_type": "code",
   "execution_count": 21,
   "metadata": {},
   "outputs": [
    {
     "name": "stdout",
     "output_type": "stream",
     "text": [
      "[[593, 461, 242, 148], [725, 460, 242, 147], [987, 460, 242, 148], [1122, 461, 242, 147], [2059, 461, 242, 147], [461, 463, 242, 147], [856, 462, 242, 147], [1663, 462, 242, 147], [1798, 463, 242, 147], [1928, 463, 242, 147], [2185, 462, 242, 147], [2319, 463, 240, 147], [333, 464, 242, 147], [1259, 464, 242, 147], [1396, 464, 242, 147], [1531, 465, 242, 147], [204, 466, 242, 147], [71, 469, 242, 147], [257, 905, 266, 162], [140, 907, 266, 162], [18, 908, 266, 162], [498, 911, 283, 167], [1133, 911, 283, 167], [1524, 911, 283, 167], [379, 912, 266, 162], [623, 913, 283, 166], [1008, 913, 283, 167], [1395, 913, 282, 166], [1912, 912, 283, 167], [754, 914, 283, 167], [881, 915, 282, 166], [1263, 915, 283, 166], [1657, 914, 283, 167], [1783, 914, 283, 167]]\n"
     ]
    }
   ],
   "source": [
    "from util import get_parking_spots_bboxes\n",
    "mask = '../parking_spot_box2.png'\n",
    "mask = cv2.imread(mask, 0)\n",
    "connected_components = cv2.connectedComponentsWithStats(mask, 4, cv2.CV_32S)\n",
    "\n",
    "spots = get_parking_spots_bboxes(connected_components)\n",
    "print(spots)"
   ]
  }
 ],
 "metadata": {
  "kernelspec": {
   "display_name": "face_recog",
   "language": "python",
   "name": "python3"
  },
  "language_info": {
   "codemirror_mode": {
    "name": "ipython",
    "version": 3
   },
   "file_extension": ".py",
   "mimetype": "text/x-python",
   "name": "python",
   "nbconvert_exporter": "python",
   "pygments_lexer": "ipython3",
   "version": "3.9.6"
  }
 },
 "nbformat": 4,
 "nbformat_minor": 2
}
